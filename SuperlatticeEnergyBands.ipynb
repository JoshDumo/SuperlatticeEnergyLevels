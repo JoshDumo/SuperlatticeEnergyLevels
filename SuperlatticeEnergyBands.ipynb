{
 "cells": [
  {
   "cell_type": "code",
   "execution_count": 1,
   "metadata": {},
   "outputs": [],
   "source": [
    "def find_all_roots(func,a,b,nsteps):    \n",
    "    roots=[]                    \n",
    "    n=0\n",
    "    x0=a                #initializations\n",
    "    step=(b-a)/(nsteps)     #size of a sub-interval\n",
    "                    #the rest is quite self-explanatory\n",
    "    while (n<nsteps):\n",
    "        try:\n",
    "            roots.append(find_root(func,x0,x0+step))\n",
    "            root_exist = True\n",
    "        except RuntimeError:       \n",
    "            root_exist = False\n",
    "        x0+=step\n",
    "        n+=1\n",
    "    roots.sort()\n",
    "    return roots"
   ]
  },
  {
   "cell_type": "code",
   "execution_count": 2,
   "metadata": {},
   "outputs": [
    {
     "data": {
      "text/plain": [
       "[0.12259747189531325, 0.3280109325059095]"
      ]
     },
     "execution_count": 2,
     "metadata": {},
     "output_type": "execute_result"
    }
   ],
   "source": [
    "a, m, E, V, b, h_bar, X = var('a, m, E, V, b, h_bar, X')\n",
    "\n",
    "a = 40e-10\n",
    "b = 40e-10\n",
    "m = 0.1*9.11e-31*1.602e-19\n",
    "V = 0.4\n",
    "h_bar = 1.055e-34\n",
    "\n",
    "X = cos(a*sqrt(2*m*E)/h_bar)*cosh(b*sqrt(2*m*(V-E))/h_bar)+((V-2*E)/sqrt(E*(V-E)))*sin(a*sqrt(2*m*E)/h_bar)*sinh(b*sqrt(2*m*(V-E))/h_bar) == 1\n",
    "\n",
    "find_all_roots(X,0,0.39,100)\n"
   ]
  },
  {
   "cell_type": "code",
   "execution_count": 169,
   "metadata": {},
   "outputs": [],
   "source": [
    "def KPSolver(a_start, a_stop, msteps):\n",
    "    \n",
    "    m, E, V, b, h_bar, XR = var('m, E, V, b, h_bar, XR')\n",
    "    \n",
    "    b = 40e-10\n",
    "    m = 0.1*9.11e-31*1.602e-19\n",
    "    V = 0.4\n",
    "    h_bar = 1.055e-34\n",
    "\n",
    "    energies = []\n",
    "    i = 0\n",
    "    a0 = a_start\n",
    "    stepper = (a_stop - a_start)/msteps\n",
    "    \n",
    "    while (i < msteps):\n",
    "        XR = cos(a0*sqrt(2*m*E)/h_bar)*cosh(b*sqrt(2*m*(V-E))/h_bar)+((V/(2*E))-1)*(((V/E)-1)^(-1/2))*sin(a0*sqrt(2*m*E)/h_bar)*sinh(b*sqrt(2*m*(V-E))/h_bar) == 1\n",
    "        energies.append(find_all_roots(XR,0,0.3999999,200))\n",
    "        a0+=stepper\n",
    "        i+=1\n",
    "    \n",
    "    return energies\n",
    "        "
   ]
  },
  {
   "cell_type": "code",
   "execution_count": 170,
   "metadata": {},
   "outputs": [
    {
     "data": {
      "text/plain": [
       "[[0.13892801855294745],\n",
       " [0.1210603794741953],\n",
       " [0.10620477028737729],\n",
       " [0.0937872741277038, 0.3726835086355275],\n",
       " [0.08334057166085303, 0.3332491366355165],\n",
       " [0.07449140073857395, 0.2992415683296693],\n",
       " [0.06694375903181835, 0.2698378475671379],\n",
       " [0.06046306982561305, 0.24432643476926927],\n",
       " [0.05486289182024391, 0.22210416372872263, 0.3963105752679802],\n",
       " [0.04999431546513704, 0.20266535501870991, 0.3739079673606248]]"
      ]
     },
     "execution_count": 170,
     "metadata": {},
     "output_type": "execute_result"
    }
   ],
   "source": [
    "KPSolver(30e-10, 70e-10, 10)"
   ]
  },
  {
   "cell_type": "code",
   "execution_count": 168,
   "metadata": {},
   "outputs": [],
   "source": [
    "import csv\n",
    "\n",
    "kpsolution = KPSolver(30e-10, 120e-10, 10)\n",
    "\n",
    "with open(\"out.csv\", \"wb\") as f:\n",
    "    writer = csv.writer(f)\n",
    "    writer.writerows(kpsolution)"
   ]
  },
  {
   "cell_type": "code",
   "execution_count": 7,
   "metadata": {},
   "outputs": [],
   "source": [
    "def SeSLKPSolver(a_start, a_stop, msteps):\n",
    "    \n",
    "    m, E, V, b, h_bar, XR = var('m, E, V, b, h_bar, XR')\n",
    "    \n",
    "    b = 80e-10\n",
    "    m = 0.25*9.11e-31*1.602e-19\n",
    "    V = 0.045\n",
    "    V_lim = V - 0.000001\n",
    "    h_bar = 1.055e-34\n",
    "\n",
    "    energies = []\n",
    "    i = 0\n",
    "    a0 = a_start\n",
    "    b0 = a_start\n",
    "    stepper = (a_stop - a_start)/msteps\n",
    "    \n",
    "    while (i < msteps):\n",
    "        XR = cos(a0*sqrt(2*m*E)/h_bar)*cosh(b0*sqrt(2*m*(V-E))/h_bar)+((V/(2*E))-1)*(((V/E)-1)^(-1/2))*sin(a0*sqrt(2*m*E)/h_bar)*sinh(b0*sqrt(2*m*(V-E))/h_bar) == 1\n",
    "        energies.append(find_all_roots(XR,0,V_lim,2000))\n",
    "        a0+=stepper\n",
    "        b0+=stepper\n",
    "        i+=1\n",
    "    \n",
    "    return energies\n",
    "        "
   ]
  },
  {
   "cell_type": "code",
   "execution_count": 16,
   "metadata": {},
   "outputs": [
    {
     "data": {
      "text/plain": [
       "[[0.043752963364068594, 0.16819988405034172],\n",
       " [0.037631093270443464, 0.14498978582216468],\n",
       " [0.032652057723258084, 0.12637423241275778, 0.24041695775526126],\n",
       " [0.028571576147596138, 0.1111198625273703, 0.2230020294166147],\n",
       " [0.02519664722917479, 0.09843031854592187, 0.2046548242159688],\n",
       " [0.02237871956609733, 0.08775443823489329, 0.1865483024489388],\n",
       " [0.02000421778809044, 0.07869025657050228, 0.16964652210989997],\n",
       " [0.017986086994792167, 0.07093388178430249, 0.1543574098340778],\n",
       " [0.016257136419878877,\n",
       "  0.06425000279629475,\n",
       "  0.1407270463364221,\n",
       "  0.23555128806463288],\n",
       " [0.014765044904076211,\n",
       "  0.05845340704691539,\n",
       "  0.12864232714606946,\n",
       "  0.21797220776222392],\n",
       " [0.013468679387935955,\n",
       "  0.05339655596012747,\n",
       "  0.11793850825958978,\n",
       "  0.20171801665321593],\n",
       " [0.012335391566410517,\n",
       "  0.04896079319032454,\n",
       "  0.10844578314299748,\n",
       "  0.18680975355868937],\n",
       " [0.01133902651855362,\n",
       "  0.04504990606355106,\n",
       "  0.10000708755799245,\n",
       "  0.1732158510710013,\n",
       "  0.24761049411950437],\n",
       " [0.010458445943276409,\n",
       "  0.04158530308072479,\n",
       "  0.09248354171606128,\n",
       "  0.16086315377838922,\n",
       "  0.23683270782157895],\n",
       " [0.009676423770254976,\n",
       "  0.03850234636784429,\n",
       "  0.08575484097127023,\n",
       "  0.14965554861143557,\n",
       "  0.22399863221506383],\n",
       " [0.008978812683010103,\n",
       "  0.03574753125636536,\n",
       "  0.07971773736905662,\n",
       "  0.13948872684362945,\n",
       "  0.21083849215943606],\n",
       " [0.008353909237442923,\n",
       "  0.03327629797879838,\n",
       "  0.07428394400848748,\n",
       "  0.13025940178915665,\n",
       "  0.19816548491263242],\n",
       " [0.031051320761010675,\n",
       "  0.06937801256010324,\n",
       "  0.12187026295014067,\n",
       "  0.18625939623660356],\n",
       " [0.029041160810848527,\n",
       "  0.06493539501779219,\n",
       "  0.11423221595728215,\n",
       "  0.17519066973306383,\n",
       "  0.2415558815264448],\n",
       " [0.027219198837867824,\n",
       "  0.060900753723700976,\n",
       "  0.10726505394840892,\n",
       "  0.16494831523305153,\n",
       "  0.22961297859242408]]"
      ]
     },
     "execution_count": 16,
     "metadata": {},
     "output_type": "execute_result"
    }
   ],
   "source": [
    "SeSLKPSolver(40e-10, 130e-10, 20)"
   ]
  },
  {
   "cell_type": "code",
   "execution_count": 8,
   "metadata": {},
   "outputs": [],
   "source": [
    "import csv\n",
    "\n",
    "kpsolution = SeSLKPSolver(40e-10, 130e-10, 20)\n",
    "\n",
    "with open(\"outSe-opt-4.csv\", \"wb\") as f:\n",
    "    writer = csv.writer(f)\n",
    "    writer.writerows(kpsolution)"
   ]
  },
  {
   "cell_type": "code",
   "execution_count": 5,
   "metadata": {},
   "outputs": [
    {
     "data": {
      "text/plain": [
       "[E == 1/2*V*sqrt(-(E - V)/E)*sin(a*k1)*sinh(b*k2)/(sqrt(-(E - V)/E)*sin(a*k1)*sinh(b*k2) - cos(a*k1)*cosh(b*k2))]"
      ]
     },
     "execution_count": 5,
     "metadata": {},
     "output_type": "execute_result"
    }
   ],
   "source": [
    "k1, k2, X2 = var('k1, k2, X2')\n",
    "\n",
    "X2 = cos(a*k1)*cosh(b*k2)+((V/(2*E))-1)*sqrt((V/E)-1)*sin(a*k1)*sinh(b*k2)\n",
    "\n",
    "solve([X2==0], E)\n"
   ]
  },
  {
   "cell_type": "code",
   "execution_count": 3,
   "metadata": {},
   "outputs": [
    {
     "data": {
      "text/plain": [
       "[E == 1/2*V*sqrt(-(E - V)/E)*sin(a*k1)*sinh(a*k2)/(sqrt(-(E - V)/E)*sin(a*k1)*sinh(a*k2) - cos(a*k1)*cosh(a*k2))]"
      ]
     },
     "execution_count": 3,
     "metadata": {},
     "output_type": "execute_result"
    }
   ],
   "source": [
    "X3 = var('X3')\n",
    "\n",
    "X3 = cos(a*k1)*cosh(a*k2)+((V/(2*E))-1)*sqrt((V/E)-1)*sin(a*k1)*sinh(a*k2)\n",
    "\n",
    "solve([X3 == 0], E)"
   ]
  },
  {
   "cell_type": "code",
   "execution_count": 6,
   "metadata": {},
   "outputs": [
    {
     "data": {
      "text/plain": [
       "-0.6180339887498948"
      ]
     },
     "execution_count": 6,
     "metadata": {},
     "output_type": "execute_result"
    }
   ],
   "source": [
    "find_root(x^2-x-1, -1, 0)"
   ]
  },
  {
   "cell_type": "code",
   "execution_count": null,
   "metadata": {},
   "outputs": [],
   "source": []
  }
 ],
 "metadata": {
  "kernelspec": {
   "display_name": "SageMath 8.9",
   "language": "sage",
   "name": "sagemath"
  },
  "language_info": {
   "codemirror_mode": {
    "name": "ipython",
    "version": 2
   },
   "file_extension": ".py",
   "mimetype": "text/x-python",
   "name": "python",
   "nbconvert_exporter": "python",
   "pygments_lexer": "ipython2",
   "version": "2.7.15"
  }
 },
 "nbformat": 4,
 "nbformat_minor": 2
}
